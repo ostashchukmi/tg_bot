{
 "cells": [
  {
   "cell_type": "code",
   "execution_count": null,
   "id": "9cc91611-a951-4b56-9142-772a6afee763",
   "metadata": {},
   "outputs": [],
   "source": [
    "!pip install telebot"
   ]
  },
  {
   "cell_type": "code",
   "execution_count": null,
   "id": "ddc1208b-3607-4b79-a92a-a9dc87e0ddf6",
   "metadata": {},
   "outputs": [],
   "source": [
    "!pip install roboflow supervision opencv-python"
   ]
  },
  {
   "cell_type": "code",
   "execution_count": null,
   "id": "3696f8ba-340a-43e0-a9c5-7e15b63654f9",
   "metadata": {},
   "outputs": [],
   "source": [
    "!pip install inference"
   ]
  },
  {
   "cell_type": "code",
   "execution_count": null,
   "id": "bdacfcf0-93bd-4537-8885-3295c8e4d79e",
   "metadata": {},
   "outputs": [],
   "source": [
    "# Импортируем необходимые библиотеки\n",
    "import telebot\n",
    "import requests\n",
    "from inference import get_model\n",
    "import supervision as sv\n",
    "import cv2\n",
    "\n",
    "# Импортируем ключи из конфигурационного файла\n",
    "from config import API_TOKEN, api_key\n",
    "\n",
    "bot = telebot.TeleBot(API_TOKEN)\n",
    "\n",
    "# Handle '/start' and '/help'\n",
    "@bot.message_handler(commands=['help', 'start'])\n",
    "def send_welcome(message):\n",
    "    bot.reply_to(message, \"\"\"\\\n",
    "Hi there, I am EchoBot.\n",
    "I am here to echo your kind words back to you. Just say anything nice and I'll say the exact same thing to you!\\\n",
    "\"\"\")\n",
    "\n",
    "# Handle all other messages with content_type 'photo'\n",
    "@bot.message_handler(content_types=['photo'])\n",
    "def handle_photo(message):\n",
    "    # Сохраняем полученное фото\n",
    "    photo = message.photo[-1]\n",
    "    file_info = bot.get_file(photo.file_id)\n",
    "    downloaded_file = bot.download_file(file_info.file_path)\n",
    "    save_path = 'photo.jpg'\n",
    "    with open(save_path, 'wb') as new_file:\n",
    "        new_file.write(downloaded_file)\n",
    "        bot.reply_to(message, 'Фотография сохранена.')\n",
    "    \n",
    "    # Загружаем фото для обработки\n",
    "    image_file = \"photo.jpg\"\n",
    "    image = cv2.imread(image_file)\n",
    "\n",
    "    # Выполняем анализ с помощью модели и получаем разметку\n",
    "    model = get_model(model_id=\"car-damage-coco-dataset/4\", api_key=api_key)  # исправлено здесь\n",
    "    results = model.infer(image)[0]\n",
    "    detections = sv.Detections.from_inference(results)\n",
    "    print(detections)\n",
    "\n",
    "    # Аннотируем изображение с помощью supervision\n",
    "    bounding_box_annotator = sv.BoundingBoxAnnotator()\n",
    "    label_annotator = sv.LabelAnnotator()\n",
    "    annotated_image = bounding_box_annotator.annotate(scene=image, detections=detections)\n",
    "    annotated_image = label_annotator.annotate(scene=annotated_image, detections=detections)\n",
    "\n",
    "    sv.plot_image(annotated_image)\n",
    "\n",
    "    # Сохраняем аннотированное изображение\n",
    "    annotated_image_path = 'annotated_photo.jpg'\n",
    "    cv2.imwrite(annotated_image_path, annotated_image)\n",
    "\n",
    "    # Отправляем аннотированное изображение пользователю\n",
    "    with open(annotated_image_path, 'rb') as photo:\n",
    "        bot.send_photo(message.chat.id, photo)\n",
    "\n",
    "    # Отвечаем пользователю\n",
    "    bot.reply_to(message, 'Фотография с разметкой отправлена.')\n",
    "\n",
    "# Запускаем бота\n",
    "bot.infinity_polling()"
   ]
  }
 ],
 "metadata": {
  "kernelspec": {
   "display_name": "Python 3 (ipykernel)",
   "language": "python",
   "name": "python3"
  },
  "language_info": {
   "codemirror_mode": {
    "name": "ipython",
    "version": 3
   },
   "file_extension": ".py",
   "mimetype": "text/x-python",
   "name": "python",
   "nbconvert_exporter": "python",
   "pygments_lexer": "ipython3",
   "version": "3.11.7"
  }
 },
 "nbformat": 4,
 "nbformat_minor": 5
}
